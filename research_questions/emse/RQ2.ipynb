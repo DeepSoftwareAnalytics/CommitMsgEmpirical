{
 "cells": [
  {
   "cell_type": "markdown",
   "id": "ab79d354",
   "metadata": {},
   "source": [
    "# How good are the existing models and datasets?"
   ]
  },
  {
   "cell_type": "code",
   "execution_count": 1,
   "id": "fedc7d79",
   "metadata": {},
   "outputs": [],
   "source": [
    "import pandas as pd\n",
    "import os,json\n",
    "\n",
    "model_name_list = [\"CommitGen\",\"CoDiSum\",\"NMT\",\"PtrGNCMsg\",\"NNGen\",\"CoRec\",\"ATOM\"]\n",
    "dataset_name_list = [\"Commitgen\",\"NNGen\",\"CoDiSum\",\"MCMD/java/split_random\"]"
   ]
  },
  {
   "cell_type": "markdown",
   "id": "3f1f3ba4",
   "metadata": {},
   "source": [
    "## Table 5 models performance"
   ]
  },
  {
   "cell_type": "markdown",
   "id": "e4e3ca45",
   "metadata": {},
   "source": [
    "### CommitGen<sub>data</sub>"
   ]
  },
  {
   "cell_type": "code",
   "execution_count": 2,
   "id": "3f10348b",
   "metadata": {},
   "outputs": [
    {
     "name": "stderr",
     "output_type": "stream",
     "text": [
      "Use of uninitialized value in division (/) at ../metrics/B-Moses.perl line 139, <STDIN> line 370.\n"
     ]
    },
    {
     "data": {
      "text/html": [
       "<div>\n",
       "<style scoped>\n",
       "    .dataframe tbody tr th:only-of-type {\n",
       "        vertical-align: middle;\n",
       "    }\n",
       "\n",
       "    .dataframe tbody tr th {\n",
       "        vertical-align: top;\n",
       "    }\n",
       "\n",
       "    .dataframe thead th {\n",
       "        text-align: right;\n",
       "    }\n",
       "</style>\n",
       "<table border=\"1\" class=\"dataframe\">\n",
       "  <thead>\n",
       "    <tr style=\"text-align: right;\">\n",
       "      <th></th>\n",
       "      <th>B-Moses</th>\n",
       "      <th>B-Norm</th>\n",
       "      <th>B-CC</th>\n",
       "      <th>Rouge-1</th>\n",
       "      <th>Rouge-2</th>\n",
       "      <th>Rouge-L</th>\n",
       "      <th>Meteor</th>\n",
       "    </tr>\n",
       "  </thead>\n",
       "  <tbody>\n",
       "    <tr>\n",
       "      <th>CommitGen</th>\n",
       "      <td>34.03</td>\n",
       "      <td>31.11</td>\n",
       "      <td>26.00</td>\n",
       "      <td>33.56</td>\n",
       "      <td>24.54</td>\n",
       "      <td>33.30</td>\n",
       "      <td>33.28</td>\n",
       "    </tr>\n",
       "    <tr>\n",
       "      <th>CoDiSum</th>\n",
       "      <td>0.00</td>\n",
       "      <td>6.88</td>\n",
       "      <td>0.49</td>\n",
       "      <td>11.64</td>\n",
       "      <td>0.03</td>\n",
       "      <td>11.64</td>\n",
       "      <td>4.57</td>\n",
       "    </tr>\n",
       "    <tr>\n",
       "      <th>NMT</th>\n",
       "      <td>32.09</td>\n",
       "      <td>26.66</td>\n",
       "      <td>21.51</td>\n",
       "      <td>28.46</td>\n",
       "      <td>20.22</td>\n",
       "      <td>28.30</td>\n",
       "      <td>27.87</td>\n",
       "    </tr>\n",
       "    <tr>\n",
       "      <th>PtrGNCMsg</th>\n",
       "      <td>35.41</td>\n",
       "      <td>29.88</td>\n",
       "      <td>24.82</td>\n",
       "      <td>34.99</td>\n",
       "      <td>23.96</td>\n",
       "      <td>34.77</td>\n",
       "      <td>31.79</td>\n",
       "    </tr>\n",
       "    <tr>\n",
       "      <th>NNGen</th>\n",
       "      <td>38.54</td>\n",
       "      <td>34.74</td>\n",
       "      <td>29.45</td>\n",
       "      <td>38.55</td>\n",
       "      <td>28.57</td>\n",
       "      <td>38.21</td>\n",
       "      <td>37.49</td>\n",
       "    </tr>\n",
       "    <tr>\n",
       "      <th>CoRec</th>\n",
       "      <td>41.14</td>\n",
       "      <td>36.93</td>\n",
       "      <td>30.74</td>\n",
       "      <td>40.40</td>\n",
       "      <td>29.91</td>\n",
       "      <td>40.12</td>\n",
       "      <td>38.54</td>\n",
       "    </tr>\n",
       "  </tbody>\n",
       "</table>\n",
       "</div>"
      ],
      "text/plain": [
       "          B-Moses B-Norm  B-CC Rouge-1 Rouge-2 Rouge-L Meteor\n",
       "CommitGen   34.03  31.11 26.00   33.56   24.54   33.30  33.28\n",
       "CoDiSum      0.00   6.88  0.49   11.64    0.03   11.64   4.57\n",
       "NMT         32.09  26.66 21.51   28.46   20.22   28.30  27.87\n",
       "PtrGNCMsg   35.41  29.88 24.82   34.99   23.96   34.77  31.79\n",
       "NNGen       38.54  34.74 29.45   38.55   28.57   38.21  37.49\n",
       "CoRec       41.14  36.93 30.74   40.40   29.91   40.12  38.54"
      ]
     },
     "execution_count": 2,
     "metadata": {},
     "output_type": "execute_result"
    }
   ],
   "source": [
    "results = pd.DataFrame(columns=['B-Moses', 'B-Norm', 'B-CC', 'Rouge-1', 'Rouge-2', 'Rouge-L', 'Meteor'], index=model_name_list[:-1])\n",
    "for model_name in model_name_list:\n",
    "    dataset_name = \"Commitgen\"\n",
    "    if model_name == \"ATOM\":\n",
    "        continue\n",
    "    ref_path = \"../experiment_results/model_{}/data_{}/ref.msg\".format(model_name,dataset_name)\n",
    "    gen_path = \"../experiment_results/model_{}/data_{}/gen.msg\".format(model_name,dataset_name)\n",
    "    BM_evaluate_cmd = \"../metrics/B-Moses.perl {} < {}\".format(ref_path, gen_path)\n",
    "    results['B-Moses'][model_name] = float(os.popen(BM_evaluate_cmd).read().split(\"=\")[1].split(\",\")[0].strip())\n",
    "    BN_evaluate_cmd = \"python ../metrics/B-Norm.py {} < {}\".format(ref_path, gen_path)\n",
    "    results['B-Norm'][model_name] = float(os.popen(BN_evaluate_cmd).read())\n",
    "    BC_evaluate_cmd = \"python ../metrics/B-CC.py --ref_path {} --gen_path {}\".format(ref_path, gen_path)\n",
    "    results['B-CC'][model_name] = float(os.popen(BC_evaluate_cmd).read().strip())\n",
    "    Rouge_evaluate_cmd = \"python ../metrics/Rouge.py --ref_path {} --gen_path {}\".format(ref_path, gen_path)\n",
    "    rouge_str = os.popen(Rouge_evaluate_cmd).read().replace(\"'\", \"\\\"\")\n",
    "    rouge_dict = json.loads(rouge_str)\n",
    "    results['Rouge-1'][model_name], results['Rouge-2'][model_name], results['Rouge-L'][model_name] = rouge_dict['ROUGE-1'], rouge_dict['ROUGE-2'], rouge_dict['ROUGE-L']\n",
    "    Meteor_evaluate_cmd = \"python ../metrics/Meteor.py --ref_path {} --gen_path {}\".format(ref_path, gen_path)\n",
    "    results['Meteor'][model_name] = float(os.popen(Meteor_evaluate_cmd).read().strip())\n",
    "pd.options.display.float_format = '{:.2f}'.format\n",
    "results"
   ]
  },
  {
   "cell_type": "markdown",
   "id": "ad1a2cc5",
   "metadata": {},
   "source": [
    "### NNGen<sub>data</sub>"
   ]
  },
  {
   "cell_type": "code",
   "execution_count": 3,
   "id": "18ecda63",
   "metadata": {},
   "outputs": [
    {
     "name": "stderr",
     "output_type": "stream",
     "text": [
      "Use of uninitialized value in division (/) at ../metrics/B-Moses.perl line 139, <STDIN> line 370.\n"
     ]
    },
    {
     "data": {
      "text/html": [
       "<div>\n",
       "<style scoped>\n",
       "    .dataframe tbody tr th:only-of-type {\n",
       "        vertical-align: middle;\n",
       "    }\n",
       "\n",
       "    .dataframe tbody tr th {\n",
       "        vertical-align: top;\n",
       "    }\n",
       "\n",
       "    .dataframe thead th {\n",
       "        text-align: right;\n",
       "    }\n",
       "</style>\n",
       "<table border=\"1\" class=\"dataframe\">\n",
       "  <thead>\n",
       "    <tr style=\"text-align: right;\">\n",
       "      <th></th>\n",
       "      <th>B-Moses</th>\n",
       "      <th>B-Norm</th>\n",
       "      <th>B-CC</th>\n",
       "      <th>Rouge-1</th>\n",
       "      <th>Rouge-2</th>\n",
       "      <th>Rouge-L</th>\n",
       "      <th>Meteor</th>\n",
       "    </tr>\n",
       "  </thead>\n",
       "  <tbody>\n",
       "    <tr>\n",
       "      <th>CommitGen</th>\n",
       "      <td>15.08</td>\n",
       "      <td>21.60</td>\n",
       "      <td>15.48</td>\n",
       "      <td>24.57</td>\n",
       "      <td>14.51</td>\n",
       "      <td>24.29</td>\n",
       "      <td>24.35</td>\n",
       "    </tr>\n",
       "    <tr>\n",
       "      <th>CoDiSum</th>\n",
       "      <td>0.00</td>\n",
       "      <td>8.03</td>\n",
       "      <td>0.86</td>\n",
       "      <td>11.32</td>\n",
       "      <td>0.45</td>\n",
       "      <td>11.32</td>\n",
       "      <td>4.82</td>\n",
       "    </tr>\n",
       "    <tr>\n",
       "      <th>NMT</th>\n",
       "      <td>7.46</td>\n",
       "      <td>13.82</td>\n",
       "      <td>8.28</td>\n",
       "      <td>15.92</td>\n",
       "      <td>7.04</td>\n",
       "      <td>15.74</td>\n",
       "      <td>15.43</td>\n",
       "    </tr>\n",
       "    <tr>\n",
       "      <th>PtrGNCMsg</th>\n",
       "      <td>9.69</td>\n",
       "      <td>19.00</td>\n",
       "      <td>10.39</td>\n",
       "      <td>23.47</td>\n",
       "      <td>9.41</td>\n",
       "      <td>23.12</td>\n",
       "      <td>19.19</td>\n",
       "    </tr>\n",
       "    <tr>\n",
       "      <th>NNGen</th>\n",
       "      <td>16.41</td>\n",
       "      <td>23.07</td>\n",
       "      <td>16.77</td>\n",
       "      <td>27.43</td>\n",
       "      <td>15.73</td>\n",
       "      <td>27.00</td>\n",
       "      <td>26.56</td>\n",
       "    </tr>\n",
       "    <tr>\n",
       "      <th>CoRec</th>\n",
       "      <td>19.44</td>\n",
       "      <td>25.38</td>\n",
       "      <td>18.29</td>\n",
       "      <td>29.11</td>\n",
       "      <td>17.20</td>\n",
       "      <td>28.71</td>\n",
       "      <td>27.53</td>\n",
       "    </tr>\n",
       "  </tbody>\n",
       "</table>\n",
       "</div>"
      ],
      "text/plain": [
       "          B-Moses B-Norm  B-CC Rouge-1 Rouge-2 Rouge-L Meteor\n",
       "CommitGen   15.08  21.60 15.48   24.57   14.51   24.29  24.35\n",
       "CoDiSum      0.00   8.03  0.86   11.32    0.45   11.32   4.82\n",
       "NMT          7.46  13.82  8.28   15.92    7.04   15.74  15.43\n",
       "PtrGNCMsg    9.69  19.00 10.39   23.47    9.41   23.12  19.19\n",
       "NNGen       16.41  23.07 16.77   27.43   15.73   27.00  26.56\n",
       "CoRec       19.44  25.38 18.29   29.11   17.20   28.71  27.53"
      ]
     },
     "execution_count": 3,
     "metadata": {},
     "output_type": "execute_result"
    }
   ],
   "source": [
    "results = pd.DataFrame(columns=['B-Moses', 'B-Norm', 'B-CC', 'Rouge-1', 'Rouge-2', 'Rouge-L', 'Meteor'], index=model_name_list[:-1])\n",
    "for model_name in model_name_list:\n",
    "    dataset_name = \"NNGen\"\n",
    "    if model_name == \"ATOM\":\n",
    "        continue\n",
    "    ref_path = \"../experiment_results/model_{}/data_{}/ref.msg\".format(model_name,dataset_name)\n",
    "    gen_path = \"../experiment_results/model_{}/data_{}/gen.msg\".format(model_name,dataset_name)\n",
    "    BM_evaluate_cmd = \"../metrics/B-Moses.perl {} < {}\".format(ref_path, gen_path)\n",
    "    results['B-Moses'][model_name] = float(os.popen(BM_evaluate_cmd).read().split(\"=\")[1].split(\",\")[0].strip())\n",
    "    BN_evaluate_cmd = \"python ../metrics/B-Norm.py {} < {}\".format(ref_path, gen_path)\n",
    "    results['B-Norm'][model_name] = float(os.popen(BN_evaluate_cmd).read())\n",
    "    BC_evaluate_cmd = \"python ../metrics/B-CC.py --ref_path {} --gen_path {}\".format(ref_path, gen_path)\n",
    "    results['B-CC'][model_name] = float(os.popen(BC_evaluate_cmd).read().strip())\n",
    "    Rouge_evaluate_cmd = \"python ../metrics/Rouge.py --ref_path {} --gen_path {}\".format(ref_path, gen_path)\n",
    "    rouge_str = os.popen(Rouge_evaluate_cmd).read().replace(\"'\", \"\\\"\")\n",
    "    rouge_dict = json.loads(rouge_str)\n",
    "    results['Rouge-1'][model_name], results['Rouge-2'][model_name], results['Rouge-L'][model_name] = rouge_dict['ROUGE-1'], rouge_dict['ROUGE-2'], rouge_dict['ROUGE-L']\n",
    "    Meteor_evaluate_cmd = \"python ../metrics/Meteor.py --ref_path {} --gen_path {}\".format(ref_path, gen_path)\n",
    "    results['Meteor'][model_name] = float(os.popen(Meteor_evaluate_cmd).read().strip())\n",
    "pd.options.display.float_format = '{:.2f}'.format\n",
    "results"
   ]
  },
  {
   "cell_type": "markdown",
   "id": "84409f84",
   "metadata": {},
   "source": [
    "### CoDiSum<sub>data</sub>"
   ]
  },
  {
   "cell_type": "code",
   "execution_count": 4,
   "id": "ce422ce4",
   "metadata": {},
   "outputs": [
    {
     "data": {
      "text/html": [
       "<div>\n",
       "<style scoped>\n",
       "    .dataframe tbody tr th:only-of-type {\n",
       "        vertical-align: middle;\n",
       "    }\n",
       "\n",
       "    .dataframe tbody tr th {\n",
       "        vertical-align: top;\n",
       "    }\n",
       "\n",
       "    .dataframe thead th {\n",
       "        text-align: right;\n",
       "    }\n",
       "</style>\n",
       "<table border=\"1\" class=\"dataframe\">\n",
       "  <thead>\n",
       "    <tr style=\"text-align: right;\">\n",
       "      <th></th>\n",
       "      <th>B-Moses</th>\n",
       "      <th>B-Norm</th>\n",
       "      <th>B-CC</th>\n",
       "      <th>Rouge-1</th>\n",
       "      <th>Rouge-2</th>\n",
       "      <th>Rouge-L</th>\n",
       "      <th>Meteor</th>\n",
       "    </tr>\n",
       "  </thead>\n",
       "  <tbody>\n",
       "    <tr>\n",
       "      <th>CommitGen</th>\n",
       "      <td>1.33</td>\n",
       "      <td>9.37</td>\n",
       "      <td>4.17</td>\n",
       "      <td>10.73</td>\n",
       "      <td>2.27</td>\n",
       "      <td>10.59</td>\n",
       "      <td>9.83</td>\n",
       "    </tr>\n",
       "    <tr>\n",
       "      <th>CoDiSum</th>\n",
       "      <td>1.74</td>\n",
       "      <td>15.45</td>\n",
       "      <td>5.72</td>\n",
       "      <td>19.00</td>\n",
       "      <td>4.66</td>\n",
       "      <td>18.62</td>\n",
       "      <td>12.30</td>\n",
       "    </tr>\n",
       "    <tr>\n",
       "      <th>NMT</th>\n",
       "      <td>1.32</td>\n",
       "      <td>9.93</td>\n",
       "      <td>3.81</td>\n",
       "      <td>11.24</td>\n",
       "      <td>2.26</td>\n",
       "      <td>11.11</td>\n",
       "      <td>9.61</td>\n",
       "    </tr>\n",
       "    <tr>\n",
       "      <th>PtrGNCMsg</th>\n",
       "      <td>0.81</td>\n",
       "      <td>12.72</td>\n",
       "      <td>4.77</td>\n",
       "      <td>16.43</td>\n",
       "      <td>3.58</td>\n",
       "      <td>16.06</td>\n",
       "      <td>12.16</td>\n",
       "    </tr>\n",
       "    <tr>\n",
       "      <th>NNGen</th>\n",
       "      <td>3.04</td>\n",
       "      <td>9.07</td>\n",
       "      <td>5.27</td>\n",
       "      <td>10.79</td>\n",
       "      <td>3.31</td>\n",
       "      <td>10.53</td>\n",
       "      <td>10.62</td>\n",
       "    </tr>\n",
       "    <tr>\n",
       "      <th>CoRec</th>\n",
       "      <td>3.00</td>\n",
       "      <td>10.62</td>\n",
       "      <td>5.15</td>\n",
       "      <td>12.52</td>\n",
       "      <td>3.33</td>\n",
       "      <td>12.27</td>\n",
       "      <td>11.30</td>\n",
       "    </tr>\n",
       "  </tbody>\n",
       "</table>\n",
       "</div>"
      ],
      "text/plain": [
       "          B-Moses B-Norm B-CC Rouge-1 Rouge-2 Rouge-L Meteor\n",
       "CommitGen    1.33   9.37 4.17   10.73    2.27   10.59   9.83\n",
       "CoDiSum      1.74  15.45 5.72   19.00    4.66   18.62  12.30\n",
       "NMT          1.32   9.93 3.81   11.24    2.26   11.11   9.61\n",
       "PtrGNCMsg    0.81  12.72 4.77   16.43    3.58   16.06  12.16\n",
       "NNGen        3.04   9.07 5.27   10.79    3.31   10.53  10.62\n",
       "CoRec        3.00  10.62 5.15   12.52    3.33   12.27  11.30"
      ]
     },
     "execution_count": 4,
     "metadata": {},
     "output_type": "execute_result"
    }
   ],
   "source": [
    "results = pd.DataFrame(columns=['B-Moses', 'B-Norm', 'B-CC', 'Rouge-1', 'Rouge-2', 'Rouge-L', 'Meteor'], index=model_name_list[:-1])\n",
    "for model_name in model_name_list:\n",
    "    dataset_name = \"CoDiSum\"\n",
    "    if model_name == \"ATOM\":\n",
    "        continue\n",
    "    ref_path = \"../experiment_results/model_{}/data_{}/ref.msg\".format(model_name,dataset_name)\n",
    "    gen_path = \"../experiment_results/model_{}/data_{}/gen.msg\".format(model_name,dataset_name)\n",
    "    BM_evaluate_cmd = \"../metrics/B-Moses.perl {} < {}\".format(ref_path, gen_path)\n",
    "    results['B-Moses'][model_name] = float(os.popen(BM_evaluate_cmd).read().split(\"=\")[1].split(\",\")[0].strip())\n",
    "    BN_evaluate_cmd = \"python ../metrics/B-Norm.py {} < {}\".format(ref_path, gen_path)\n",
    "    results['B-Norm'][model_name] = float(os.popen(BN_evaluate_cmd).read())\n",
    "    BC_evaluate_cmd = \"python ../metrics/B-CC.py --ref_path {} --gen_path {}\".format(ref_path, gen_path)\n",
    "    results['B-CC'][model_name] = float(os.popen(BC_evaluate_cmd).read().strip())\n",
    "    Rouge_evaluate_cmd = \"python ../metrics/Rouge.py --ref_path {} --gen_path {}\".format(ref_path, gen_path)\n",
    "    rouge_str = os.popen(Rouge_evaluate_cmd).read().replace(\"'\", \"\\\"\")\n",
    "    rouge_dict = json.loads(rouge_str)\n",
    "    results['Rouge-1'][model_name], results['Rouge-2'][model_name], results['Rouge-L'][model_name] = rouge_dict['ROUGE-1'], rouge_dict['ROUGE-2'], rouge_dict['ROUGE-L']\n",
    "    Meteor_evaluate_cmd = \"python ../metrics/Meteor.py --ref_path {} --gen_path {}\".format(ref_path, gen_path)\n",
    "    results['Meteor'][model_name] = float(os.popen(Meteor_evaluate_cmd).read().strip())\n",
    "pd.options.display.float_format = '{:.2f}'.format\n",
    "results"
   ]
  },
  {
   "cell_type": "markdown",
   "id": "14858fd7",
   "metadata": {},
   "source": [
    "### MCMD<sub>Java</sub>"
   ]
  },
  {
   "cell_type": "code",
   "execution_count": 6,
   "id": "723acebe",
   "metadata": {},
   "outputs": [
    {
     "data": {
      "text/html": [
       "<div>\n",
       "<style scoped>\n",
       "    .dataframe tbody tr th:only-of-type {\n",
       "        vertical-align: middle;\n",
       "    }\n",
       "\n",
       "    .dataframe tbody tr th {\n",
       "        vertical-align: top;\n",
       "    }\n",
       "\n",
       "    .dataframe thead th {\n",
       "        text-align: right;\n",
       "    }\n",
       "</style>\n",
       "<table border=\"1\" class=\"dataframe\">\n",
       "  <thead>\n",
       "    <tr style=\"text-align: right;\">\n",
       "      <th></th>\n",
       "      <th>B-Moses</th>\n",
       "      <th>B-Norm</th>\n",
       "      <th>B-CC</th>\n",
       "      <th>Rouge-1</th>\n",
       "      <th>Rouge-2</th>\n",
       "      <th>Rouge-L</th>\n",
       "      <th>Meteor</th>\n",
       "    </tr>\n",
       "  </thead>\n",
       "  <tbody>\n",
       "    <tr>\n",
       "      <th>CommitGen</th>\n",
       "      <td>6.29</td>\n",
       "      <td>12.39</td>\n",
       "      <td>7.67</td>\n",
       "      <td>13.06</td>\n",
       "      <td>6.23</td>\n",
       "      <td>12.94</td>\n",
       "      <td>14.16</td>\n",
       "    </tr>\n",
       "    <tr>\n",
       "      <th>CoDiSum</th>\n",
       "      <td>2.00</td>\n",
       "      <td>14.00</td>\n",
       "      <td>5.37</td>\n",
       "      <td>16.84</td>\n",
       "      <td>4.43</td>\n",
       "      <td>16.51</td>\n",
       "      <td>11.34</td>\n",
       "    </tr>\n",
       "    <tr>\n",
       "      <th>NMT</th>\n",
       "      <td>9.17</td>\n",
       "      <td>13.39</td>\n",
       "      <td>10.24</td>\n",
       "      <td>15.47</td>\n",
       "      <td>7.78</td>\n",
       "      <td>15.33</td>\n",
       "      <td>16.00</td>\n",
       "    </tr>\n",
       "    <tr>\n",
       "      <th>PtrGNCMsg</th>\n",
       "      <td>8.25</td>\n",
       "      <td>15.33</td>\n",
       "      <td>11.70</td>\n",
       "      <td>19.09</td>\n",
       "      <td>8.32</td>\n",
       "      <td>18.64</td>\n",
       "      <td>19.13</td>\n",
       "    </tr>\n",
       "    <tr>\n",
       "      <th>NNGen</th>\n",
       "      <td>13.30</td>\n",
       "      <td>17.81</td>\n",
       "      <td>14.46</td>\n",
       "      <td>21.49</td>\n",
       "      <td>11.50</td>\n",
       "      <td>20.87</td>\n",
       "      <td>22.11</td>\n",
       "    </tr>\n",
       "    <tr>\n",
       "      <th>CoRec</th>\n",
       "      <td>11.39</td>\n",
       "      <td>16.09</td>\n",
       "      <td>12.68</td>\n",
       "      <td>18.95</td>\n",
       "      <td>10.19</td>\n",
       "      <td>18.66</td>\n",
       "      <td>19.58</td>\n",
       "    </tr>\n",
       "    <tr>\n",
       "      <th>ATOM</th>\n",
       "      <td>7.47</td>\n",
       "      <td>16.42</td>\n",
       "      <td>9.29</td>\n",
       "      <td>19.10</td>\n",
       "      <td>9.58</td>\n",
       "      <td>18.60</td>\n",
       "      <td>20.80</td>\n",
       "    </tr>\n",
       "  </tbody>\n",
       "</table>\n",
       "</div>"
      ],
      "text/plain": [
       "          B-Moses B-Norm  B-CC Rouge-1 Rouge-2 Rouge-L Meteor\n",
       "CommitGen    6.29  12.39  7.67   13.06    6.23   12.94  14.16\n",
       "CoDiSum      2.00  14.00  5.37   16.84    4.43   16.51  11.34\n",
       "NMT          9.17  13.39 10.24   15.47    7.78   15.33  16.00\n",
       "PtrGNCMsg    8.25  15.33 11.70   19.09    8.32   18.64  19.13\n",
       "NNGen       13.30  17.81 14.46   21.49   11.50   20.87  22.11\n",
       "CoRec       11.39  16.09 12.68   18.95   10.19   18.66  19.58\n",
       "ATOM         7.47  16.42  9.29   19.10    9.58   18.60  20.80"
      ]
     },
     "execution_count": 6,
     "metadata": {},
     "output_type": "execute_result"
    }
   ],
   "source": [
    "results = pd.DataFrame(columns=['B-Moses', 'B-Norm', 'B-CC', 'Rouge-1', 'Rouge-2', 'Rouge-L', 'Meteor'], index=model_name_list)\n",
    "for model_name in model_name_list:\n",
    "    dataset_name = \"MCMD/java/split_random\"\n",
    "    ref_path = \"../experiment_results/model_{}/data_{}/ref.msg\".format(model_name,dataset_name)\n",
    "    gen_path = \"../experiment_results/model_{}/data_{}/gen.msg\".format(model_name,dataset_name)\n",
    "    BM_evaluate_cmd = \"../metrics/B-Moses.perl {} < {}\".format(ref_path, gen_path)\n",
    "    results['B-Moses'][model_name] = float(os.popen(BM_evaluate_cmd).read().split(\"=\")[1].split(\",\")[0].strip())\n",
    "    BN_evaluate_cmd = \"python ../metrics/B-Norm.py {} < {}\".format(ref_path, gen_path)\n",
    "    results['B-Norm'][model_name] = float(os.popen(BN_evaluate_cmd).read())\n",
    "    BC_evaluate_cmd = \"python ../metrics/B-CC.py --ref_path {} --gen_path {}\".format(ref_path, gen_path)\n",
    "    results['B-CC'][model_name] = float(os.popen(BC_evaluate_cmd).read().strip())\n",
    "    Rouge_evaluate_cmd = \"python ../metrics/Rouge.py --ref_path {} --gen_path {}\".format(ref_path, gen_path)\n",
    "    rouge_str = os.popen(Rouge_evaluate_cmd).read().replace(\"'\", \"\\\"\")\n",
    "    rouge_dict = json.loads(rouge_str)\n",
    "    results['Rouge-1'][model_name], results['Rouge-2'][model_name], results['Rouge-L'][model_name] = rouge_dict['ROUGE-1'], rouge_dict['ROUGE-2'], rouge_dict['ROUGE-L']\n",
    "    Meteor_evaluate_cmd = \"python ../metrics/Meteor.py --ref_path {} --gen_path {}\".format(ref_path, gen_path)\n",
    "    results['Meteor'][model_name] = float(os.popen(Meteor_evaluate_cmd).read().strip())\n",
    "pd.options.display.float_format = '{:.2f}'.format\n",
    "results"
   ]
  },
  {
   "cell_type": "markdown",
   "id": "ab0d8860",
   "metadata": {},
   "source": [
    "## Table 7 noisy data ablation study"
   ]
  },
  {
   "cell_type": "markdown",
   "id": "dc380412",
   "metadata": {},
   "source": [
    "### Training: CommitGen<sub>data</sub>"
   ]
  },
  {
   "cell_type": "markdown",
   "id": "48af322f",
   "metadata": {},
   "source": [
    "#### Test: NNGen<sub>data</sub>"
   ]
  },
  {
   "cell_type": "code",
   "execution_count": 7,
   "id": "d25a2c3c",
   "metadata": {},
   "outputs": [
    {
     "data": {
      "text/html": [
       "<div>\n",
       "<style scoped>\n",
       "    .dataframe tbody tr th:only-of-type {\n",
       "        vertical-align: middle;\n",
       "    }\n",
       "\n",
       "    .dataframe tbody tr th {\n",
       "        vertical-align: top;\n",
       "    }\n",
       "\n",
       "    .dataframe thead th {\n",
       "        text-align: right;\n",
       "    }\n",
       "</style>\n",
       "<table border=\"1\" class=\"dataframe\">\n",
       "  <thead>\n",
       "    <tr style=\"text-align: right;\">\n",
       "      <th></th>\n",
       "      <th>B-Moses</th>\n",
       "      <th>B-Norm</th>\n",
       "      <th>B-CC</th>\n",
       "      <th>Rouge-1</th>\n",
       "      <th>Rouge-2</th>\n",
       "      <th>Rouge-L</th>\n",
       "      <th>Meteor</th>\n",
       "    </tr>\n",
       "  </thead>\n",
       "  <tbody>\n",
       "    <tr>\n",
       "      <th>CommitGen_data</th>\n",
       "      <td>11.38</td>\n",
       "      <td>19.09</td>\n",
       "      <td>12.86</td>\n",
       "      <td>21.93</td>\n",
       "      <td>11.51</td>\n",
       "      <td>21.63</td>\n",
       "      <td>21.73</td>\n",
       "    </tr>\n",
       "  </tbody>\n",
       "</table>\n",
       "</div>"
      ],
      "text/plain": [
       "               B-Moses B-Norm  B-CC Rouge-1 Rouge-2 Rouge-L Meteor\n",
       "CommitGen_data   11.38  19.09 12.86   21.93   11.51   21.63  21.73"
      ]
     },
     "execution_count": 7,
     "metadata": {},
     "output_type": "execute_result"
    }
   ],
   "source": [
    "results = pd.DataFrame(columns=['B-Moses', 'B-Norm', 'B-CC', 'Rouge-1', 'Rouge-2', 'Rouge-L', 'Meteor'], index=[\"CommitGen_data\"])\n",
    "ref_path = \"../experiment_results/model_CommitGen/data_Commitgen/test_NNGen/ref.msg\"\n",
    "gen_path = \"../experiment_results/model_CommitGen/data_Commitgen/test_NNGen/gen.msg\"\n",
    "BM_evaluate_cmd = \"../metrics/B-Moses.perl {} < {}\".format(ref_path, gen_path)\n",
    "results['B-Moses'][\"CommitGen_data\"] = float(os.popen(BM_evaluate_cmd).read().split(\"=\")[1].split(\",\")[0].strip())\n",
    "BN_evaluate_cmd = \"python ../metrics/B-Norm.py {} < {}\".format(ref_path, gen_path)\n",
    "results['B-Norm'][\"CommitGen_data\"] = float(os.popen(BN_evaluate_cmd).read())\n",
    "BC_evaluate_cmd = \"python ../metrics/B-CC.py --ref_path {} --gen_path {}\".format(ref_path, gen_path)\n",
    "results['B-CC'][\"CommitGen_data\"] = float(os.popen(BC_evaluate_cmd).read().strip())\n",
    "Rouge_evaluate_cmd = \"python ../metrics/Rouge.py --ref_path {} --gen_path {}\".format(ref_path, gen_path)\n",
    "rouge_str = os.popen(Rouge_evaluate_cmd).read().replace(\"'\", \"\\\"\")\n",
    "rouge_dict = json.loads(rouge_str)\n",
    "results['Rouge-1'][\"CommitGen_data\"], results['Rouge-2'][\"CommitGen_data\"], results['Rouge-L'][\"CommitGen_data\"] = rouge_dict['ROUGE-1'], rouge_dict['ROUGE-2'], rouge_dict['ROUGE-L']\n",
    "Meteor_evaluate_cmd = \"python ../metrics/Meteor.py --ref_path {} --gen_path {}\".format(ref_path, gen_path)\n",
    "results['Meteor'][\"CommitGen_data\"] = float(os.popen(Meteor_evaluate_cmd).read().strip())\n",
    "pd.options.display.float_format = '{:.2f}'.format\n",
    "results"
   ]
  },
  {
   "cell_type": "markdown",
   "id": "8aae1044",
   "metadata": {},
   "source": [
    "#### Test: Nosiy data"
   ]
  },
  {
   "cell_type": "code",
   "execution_count": 8,
   "id": "993742f8",
   "metadata": {},
   "outputs": [
    {
     "data": {
      "text/html": [
       "<div>\n",
       "<style scoped>\n",
       "    .dataframe tbody tr th:only-of-type {\n",
       "        vertical-align: middle;\n",
       "    }\n",
       "\n",
       "    .dataframe tbody tr th {\n",
       "        vertical-align: top;\n",
       "    }\n",
       "\n",
       "    .dataframe thead th {\n",
       "        text-align: right;\n",
       "    }\n",
       "</style>\n",
       "<table border=\"1\" class=\"dataframe\">\n",
       "  <thead>\n",
       "    <tr style=\"text-align: right;\">\n",
       "      <th></th>\n",
       "      <th>B-Moses</th>\n",
       "      <th>B-Norm</th>\n",
       "      <th>B-CC</th>\n",
       "      <th>Rouge-1</th>\n",
       "      <th>Rouge-2</th>\n",
       "      <th>Rouge-L</th>\n",
       "      <th>Meteor</th>\n",
       "    </tr>\n",
       "  </thead>\n",
       "  <tbody>\n",
       "    <tr>\n",
       "      <th>CommitGen_data</th>\n",
       "      <td>97.44</td>\n",
       "      <td>94.43</td>\n",
       "      <td>95.00</td>\n",
       "      <td>94.78</td>\n",
       "      <td>93.11</td>\n",
       "      <td>94.71</td>\n",
       "      <td>93.86</td>\n",
       "    </tr>\n",
       "  </tbody>\n",
       "</table>\n",
       "</div>"
      ],
      "text/plain": [
       "               B-Moses B-Norm  B-CC Rouge-1 Rouge-2 Rouge-L Meteor\n",
       "CommitGen_data   97.44  94.43 95.00   94.78   93.11   94.71  93.86"
      ]
     },
     "execution_count": 8,
     "metadata": {},
     "output_type": "execute_result"
    }
   ],
   "source": [
    "results = pd.DataFrame(columns=['B-Moses', 'B-Norm', 'B-CC', 'Rouge-1', 'Rouge-2', 'Rouge-L', 'Meteor'], index=[\"CommitGen_data\"])\n",
    "ref_path = \"../experiment_results/model_CommitGen/data_Commitgen/test_BotTrivial/ref.msg\"\n",
    "gen_path = \"../experiment_results/model_CommitGen/data_Commitgen/test_BotTrivial/gen.msg\"\n",
    "BM_evaluate_cmd = \"../metrics/B-Moses.perl {} < {}\".format(ref_path, gen_path)\n",
    "results['B-Moses'][\"CommitGen_data\"] = float(os.popen(BM_evaluate_cmd).read().split(\"=\")[1].split(\",\")[0].strip())\n",
    "BN_evaluate_cmd = \"python ../metrics/B-Norm.py {} < {}\".format(ref_path, gen_path)\n",
    "results['B-Norm'][\"CommitGen_data\"] = float(os.popen(BN_evaluate_cmd).read())\n",
    "BC_evaluate_cmd = \"python ../metrics/B-CC.py --ref_path {} --gen_path {}\".format(ref_path, gen_path)\n",
    "results['B-CC'][\"CommitGen_data\"] = float(os.popen(BC_evaluate_cmd).read().strip())\n",
    "Rouge_evaluate_cmd = \"python ../metrics/Rouge.py --ref_path {} --gen_path {}\".format(ref_path, gen_path)\n",
    "rouge_str = os.popen(Rouge_evaluate_cmd).read().replace(\"'\", \"\\\"\")\n",
    "rouge_dict = json.loads(rouge_str)\n",
    "results['Rouge-1'][\"CommitGen_data\"], results['Rouge-2'][\"CommitGen_data\"], results['Rouge-L'][\"CommitGen_data\"] = rouge_dict['ROUGE-1'], rouge_dict['ROUGE-2'], rouge_dict['ROUGE-L']\n",
    "Meteor_evaluate_cmd = \"python ../metrics/Meteor.py --ref_path {} --gen_path {}\".format(ref_path, gen_path)\n",
    "results['Meteor'][\"CommitGen_data\"] = float(os.popen(Meteor_evaluate_cmd).read().strip())\n",
    "results"
   ]
  },
  {
   "cell_type": "markdown",
   "id": "caaac570",
   "metadata": {},
   "source": [
    "### Training: NNGen<sub>data</sub>"
   ]
  },
  {
   "cell_type": "markdown",
   "id": "5ebbb016",
   "metadata": {},
   "source": [
    "#### Test: NNGen<sub>data</sub>"
   ]
  },
  {
   "cell_type": "code",
   "execution_count": 9,
   "id": "224771fd",
   "metadata": {},
   "outputs": [
    {
     "data": {
      "text/html": [
       "<div>\n",
       "<style scoped>\n",
       "    .dataframe tbody tr th:only-of-type {\n",
       "        vertical-align: middle;\n",
       "    }\n",
       "\n",
       "    .dataframe tbody tr th {\n",
       "        vertical-align: top;\n",
       "    }\n",
       "\n",
       "    .dataframe thead th {\n",
       "        text-align: right;\n",
       "    }\n",
       "</style>\n",
       "<table border=\"1\" class=\"dataframe\">\n",
       "  <thead>\n",
       "    <tr style=\"text-align: right;\">\n",
       "      <th></th>\n",
       "      <th>B-Moses</th>\n",
       "      <th>B-Norm</th>\n",
       "      <th>B-CC</th>\n",
       "      <th>Rouge-1</th>\n",
       "      <th>Rouge-2</th>\n",
       "      <th>Rouge-L</th>\n",
       "      <th>Meteor</th>\n",
       "    </tr>\n",
       "  </thead>\n",
       "  <tbody>\n",
       "    <tr>\n",
       "      <th>NNGen_data</th>\n",
       "      <td>15.08</td>\n",
       "      <td>21.60</td>\n",
       "      <td>15.48</td>\n",
       "      <td>24.57</td>\n",
       "      <td>14.51</td>\n",
       "      <td>24.29</td>\n",
       "      <td>24.35</td>\n",
       "    </tr>\n",
       "  </tbody>\n",
       "</table>\n",
       "</div>"
      ],
      "text/plain": [
       "           B-Moses B-Norm  B-CC Rouge-1 Rouge-2 Rouge-L Meteor\n",
       "NNGen_data   15.08  21.60 15.48   24.57   14.51   24.29  24.35"
      ]
     },
     "execution_count": 9,
     "metadata": {},
     "output_type": "execute_result"
    }
   ],
   "source": [
    "results = pd.DataFrame(columns=['B-Moses', 'B-Norm', 'B-CC', 'Rouge-1', 'Rouge-2', 'Rouge-L', 'Meteor'], index=[\"NNGen_data\"])\n",
    "ref_path = \"../experiment_results/model_CommitGen/data_NNGen/ref.msg\"\n",
    "gen_path = \"../experiment_results/model_CommitGen/data_NNGen/gen.msg\"\n",
    "BM_evaluate_cmd = \"../metrics/B-Moses.perl {} < {}\".format(ref_path, gen_path)\n",
    "results['B-Moses'][\"NNGen_data\"] = float(os.popen(BM_evaluate_cmd).read().split(\"=\")[1].split(\",\")[0].strip())\n",
    "BN_evaluate_cmd = \"python ../metrics/B-Norm.py {} < {}\".format(ref_path, gen_path)\n",
    "results['B-Norm'][\"NNGen_data\"] = float(os.popen(BN_evaluate_cmd).read())\n",
    "BC_evaluate_cmd = \"python ../metrics/B-CC.py --ref_path {} --gen_path {}\".format(ref_path, gen_path)\n",
    "results['B-CC'][\"NNGen_data\"] = float(os.popen(BC_evaluate_cmd).read().strip())\n",
    "Rouge_evaluate_cmd = \"python ../metrics/Rouge.py --ref_path {} --gen_path {}\".format(ref_path, gen_path)\n",
    "rouge_str = os.popen(Rouge_evaluate_cmd).read().replace(\"'\", \"\\\"\")\n",
    "rouge_dict = json.loads(rouge_str)\n",
    "results['Rouge-1'][\"NNGen_data\"], results['Rouge-2'][\"NNGen_data\"], results['Rouge-L'][\"NNGen_data\"] = rouge_dict['ROUGE-1'], rouge_dict['ROUGE-2'], rouge_dict['ROUGE-L']\n",
    "Meteor_evaluate_cmd = \"python ../metrics/Meteor.py --ref_path {} --gen_path {}\".format(ref_path, gen_path)\n",
    "results['Meteor'][\"NNGen_data\"] = float(os.popen(Meteor_evaluate_cmd).read().strip())\n",
    "results"
   ]
  },
  {
   "cell_type": "markdown",
   "id": "a48e6bdd",
   "metadata": {},
   "source": [
    "## Fig. 3 The performance of commit messages of different length intervals in the test set (5 PLs of MCMD)"
   ]
  },
  {
   "cell_type": "code",
   "execution_count": 10,
   "id": "deb28f5f",
   "metadata": {},
   "outputs": [],
   "source": [
    "import matplotlib.pyplot as plt\n",
    "from tqdm import tqdm\n",
    "import pandas as pd\n",
    "import numpy as np\n",
    "import re\n",
    "\n",
    "def get_n_length_lines_index(file_path):\n",
    "    content = open(file_path).read().split(\"\\n\")\n",
    "    n_index = dict()\n",
    "    for idx, line in enumerate(content):\n",
    "        if line == \"\":\n",
    "            continue\n",
    "        if len(line.split(\" \")) not in n_index.keys():\n",
    "            n_index[len(line.split(\" \"))] = list()\n",
    "        n_index[len(line.split(\" \"))].append(idx)\n",
    "    return n_index\n",
    "\n",
    "def get_BN_per_n_length_lines(ref_path, gen_path, max_len = 30):\n",
    "    result = dict()\n",
    "    content = open(ref_path).read().split(\"\\n\")\n",
    "    n_index = get_n_length_lines_index(ref_path)\n",
    "    for i in tqdm(range(31), desc=\"...{}\".format(ref_path[-30:])):\n",
    "        tmp_ref, tmp_gen = \"tmp_ref.txt\", \"tmp_gen.txt\"\n",
    "        if i not in n_index.keys():\n",
    "            result[i] = 0\n",
    "            continue\n",
    "        content = open(ref_path).read().split(\"\\n\")\n",
    "        with open(tmp_ref, \"w\") as f:\n",
    "            f.write(\"\\n\".join([content[idx] for idx in n_index[i]]))\n",
    "        content = open(gen_path).read().split(\"\\n\")\n",
    "        try:\n",
    "            with open(tmp_gen, \"w\") as f:\n",
    "                f.write(\"\\n\".join([content[idx] for idx in n_index[i]]))\n",
    "        except:\n",
    "            print(i, n_index[i])\n",
    "            for idx in n_index[i]:\n",
    "                if idx >= len(content):\n",
    "                    print(idx)\n",
    "        BN_cmd = \"python ../metrics/B-Norm.py {} < {}\".format(tmp_ref, tmp_gen)\n",
    "        cmd_output = os.popen(BN_cmd).read()\n",
    "        if isinstance(cmd_output, str) and re.search(\"\\d+.\\d+\", cmd_output) != None:\n",
    "            result[i] = round(float(cmd_output),2)\n",
    "    return result\n",
    "\n",
    "def draw_pl_figure(language, model_name_list, legend_display=True):\n",
    "    for model_name in model_name_list:\n",
    "        folder_path = \"../experiment_results/model_{}/data_MCMD/{}/split_random\".format(model_name, language)\n",
    "        ref_path = os.path.join(folder_path, \"ref.msg\")\n",
    "        gen_path = os.path.join(folder_path, \"gen.msg\")\n",
    "        result = get_BN_per_n_length_lines(ref_path, gen_path)\n",
    "        smooth_result = dict()\n",
    "        for i in range(1,31,5):\n",
    "            five_sum = 0\n",
    "            for j in range(5):\n",
    "                five_sum += result[i+j]\n",
    "            smooth_result[\"[{}, {}]\".format(i, i+4)] = five_sum/5\n",
    "        plt.ylim((0, 35))\n",
    "        plt.plot(smooth_result.keys(),smooth_result.values(),marker=marker_dict[model_name])\n",
    "        plt.legend((model_name_list), loc='upper right')\n",
    "        plt.title(language_display[language])\n",
    "\n",
    "result_backup = dict()\n",
    "model_name_list = [\"CommitGen\",\"CoDiSum\",\"NMT\",\"PtrGNCMsg\",\"NNGen\",\"CoRec\"]\n",
    "marker_dict = {\"CommitGen\":\"*\", \"NMT\":\"o\", \"CoDiSum\":\"p\", \"PtrGNCMsg\":\"x\", \"CoRec\":\"H\", \"NNGen\":\"|\"}\n",
    "language_list = [\"java\",\"csharp\",\"python\",\"cpp\",\"javascript\"]\n",
    "language_display = {\"java\":\"Java\",\"csharp\":\"C#\",\"python\":\"Python\",\"cpp\":\"C++\",\"javascript\":\"JavaScript\"}"
   ]
  },
  {
   "cell_type": "markdown",
   "id": "64fa6336",
   "metadata": {},
   "source": [
    "### Java"
   ]
  },
  {
   "cell_type": "code",
   "execution_count": 11,
   "id": "49d35439",
   "metadata": {
    "scrolled": true
   },
   "outputs": [
    {
     "name": "stderr",
     "output_type": "stream",
     "text": [
      "...MCMD/java/split_random/ref.msg: 100%|███████████████████████████████████████████████████████| 31/31 [00:08<00:00,  3.59it/s]\n",
      "...MCMD/java/split_random/ref.msg: 100%|███████████████████████████████████████████████████████| 31/31 [00:01<00:00, 18.72it/s]\n",
      "...MCMD/java/split_random/ref.msg: 100%|███████████████████████████████████████████████████████| 31/31 [00:08<00:00,  3.45it/s]\n",
      "...MCMD/java/split_random/ref.msg: 100%|███████████████████████████████████████████████████████| 31/31 [00:09<00:00,  3.17it/s]\n",
      "...MCMD/java/split_random/ref.msg: 100%|███████████████████████████████████████████████████████| 31/31 [00:09<00:00,  3.30it/s]\n",
      "...MCMD/java/split_random/ref.msg: 100%|███████████████████████████████████████████████████████| 31/31 [00:08<00:00,  3.49it/s]\n"
     ]
    },
    {
     "data": {
      "image/png": "[encoded data removed]",
      "text/plain": [
       "<Figure size 432x288 with 1 Axes>"
      ]
     },
     "metadata": {
      "needs_background": "light"
     },
     "output_type": "display_data"
    }
   ],
   "source": [
    "draw_pl_figure('java', model_name_list)"
   ]
  },
  {
   "cell_type": "markdown",
   "id": "7d8345a9",
   "metadata": {},
   "source": [
    "### Python"
   ]
  },
  {
   "cell_type": "code",
   "execution_count": 12,
   "id": "26810fb6",
   "metadata": {
    "scrolled": true
   },
   "outputs": [
    {
     "name": "stderr",
     "output_type": "stream",
     "text": [
      "...MD/python/split_random/ref.msg: 100%|███████████████████████████████████████████████████████| 31/31 [00:09<00:00,  3.40it/s]\n",
      "...MD/python/split_random/ref.msg: 100%|███████████████████████████████████████████████████████| 31/31 [00:01<00:00, 16.48it/s]\n",
      "...MD/python/split_random/ref.msg: 100%|███████████████████████████████████████████████████████| 31/31 [00:09<00:00,  3.35it/s]\n",
      "...MD/python/split_random/ref.msg: 100%|███████████████████████████████████████████████████████| 31/31 [00:10<00:00,  3.07it/s]\n",
      "...MD/python/split_random/ref.msg: 100%|███████████████████████████████████████████████████████| 31/31 [00:09<00:00,  3.25it/s]\n",
      "...MD/python/split_random/ref.msg: 100%|███████████████████████████████████████████████████████| 31/31 [00:09<00:00,  3.39it/s]\n"
     ]
    },
    {
     "data": {
      "image/png": "[encoded data removed]",
      "text/plain": [
       "<Figure size 432x288 with 1 Axes>"
      ]
     },
     "metadata": {
      "needs_background": "light"
     },
     "output_type": "display_data"
    }
   ],
   "source": [
    "draw_pl_figure('python', model_name_list)"
   ]
  },
  {
   "cell_type": "markdown",
   "id": "27450220",
   "metadata": {},
   "source": [
    "### C#"
   ]
  },
  {
   "cell_type": "code",
   "execution_count": 13,
   "id": "0055b3bb",
   "metadata": {},
   "outputs": [
    {
     "name": "stderr",
     "output_type": "stream",
     "text": [
      "...MD/csharp/split_random/ref.msg: 100%|███████████████████████████████████████████████████████| 31/31 [00:09<00:00,  3.25it/s]\n",
      "...MD/csharp/split_random/ref.msg: 100%|███████████████████████████████████████████████████████| 31/31 [00:01<00:00, 15.76it/s]\n",
      "...MD/csharp/split_random/ref.msg: 100%|███████████████████████████████████████████████████████| 31/31 [00:09<00:00,  3.21it/s]\n",
      "...MD/csharp/split_random/ref.msg: 100%|███████████████████████████████████████████████████████| 31/31 [00:10<00:00,  3.09it/s]\n",
      "...MD/csharp/split_random/ref.msg: 100%|███████████████████████████████████████████████████████| 31/31 [00:09<00:00,  3.16it/s]\n",
      "...MD/csharp/split_random/ref.msg: 100%|███████████████████████████████████████████████████████| 31/31 [00:09<00:00,  3.20it/s]\n"
     ]
    },
    {
     "data": {
      "image/png": "[encoded data removed]",
      "text/plain": [
       "<Figure size 432x288 with 1 Axes>"
      ]
     },
     "metadata": {
      "needs_background": "light"
     },
     "output_type": "display_data"
    }
   ],
   "source": [
    "draw_pl_figure('csharp', model_name_list)"
   ]
  },
  {
   "cell_type": "markdown",
   "id": "0d1a8b8f",
   "metadata": {},
   "source": [
    "### C++"
   ]
  },
  {
   "cell_type": "code",
   "execution_count": 14,
   "id": "42788c37",
   "metadata": {},
   "outputs": [
    {
     "name": "stderr",
     "output_type": "stream",
     "text": [
      "..._MCMD/cpp/split_random/ref.msg: 100%|███████████████████████████████████████████████████████| 31/31 [00:08<00:00,  3.49it/s]\n",
      "..._MCMD/cpp/split_random/ref.msg: 100%|███████████████████████████████████████████████████████| 31/31 [00:01<00:00, 18.16it/s]\n",
      "..._MCMD/cpp/split_random/ref.msg: 100%|███████████████████████████████████████████████████████| 31/31 [00:09<00:00,  3.40it/s]\n",
      "..._MCMD/cpp/split_random/ref.msg: 100%|███████████████████████████████████████████████████████| 31/31 [00:10<00:00,  3.02it/s]\n",
      "..._MCMD/cpp/split_random/ref.msg: 100%|███████████████████████████████████████████████████████| 31/31 [00:09<00:00,  3.23it/s]\n",
      "..._MCMD/cpp/split_random/ref.msg: 100%|███████████████████████████████████████████████████████| 31/31 [00:09<00:00,  3.38it/s]\n"
     ]
    },
    {
     "data": {
      "image/png": "[encoded data removed]",
      "text/plain": [
       "<Figure size 432x288 with 1 Axes>"
      ]
     },
     "metadata": {
      "needs_background": "light"
     },
     "output_type": "display_data"
    }
   ],
   "source": [
    "draw_pl_figure('cpp', model_name_list)"
   ]
  },
  {
   "cell_type": "markdown",
   "id": "84921b42",
   "metadata": {},
   "source": [
    "### JavaScript"
   ]
  },
  {
   "cell_type": "code",
   "execution_count": 15,
   "id": "5da0a7ed",
   "metadata": {},
   "outputs": [
    {
     "name": "stderr",
     "output_type": "stream",
     "text": [
      "...avascript/split_random/ref.msg: 100%|███████████████████████████████████████████████████████| 31/31 [00:08<00:00,  3.47it/s]\n",
      "...avascript/split_random/ref.msg: 100%|███████████████████████████████████████████████████████| 31/31 [00:01<00:00, 17.44it/s]\n",
      "...avascript/split_random/ref.msg: 100%|███████████████████████████████████████████████████████| 31/31 [00:09<00:00,  3.32it/s]\n",
      "...avascript/split_random/ref.msg: 100%|███████████████████████████████████████████████████████| 31/31 [00:09<00:00,  3.20it/s]\n",
      "...avascript/split_random/ref.msg: 100%|███████████████████████████████████████████████████████| 31/31 [00:09<00:00,  3.19it/s]\n",
      "...avascript/split_random/ref.msg: 100%|███████████████████████████████████████████████████████| 31/31 [00:09<00:00,  3.37it/s]\n"
     ]
    },
    {
     "data": {
      "image/png": "[encoded data removed]",
      "text/plain": [
       "<Figure size 432x288 with 1 Axes>"
      ]
     },
     "metadata": {
      "needs_background": "light"
     },
     "output_type": "display_data"
    }
   ],
   "source": [
    "draw_pl_figure('javascript', model_name_list)"
   ]
  }
 ],
 "metadata": {
  "kernelspec": {
   "display_name": "Python [conda env:MCMD]",
   "language": "python",
   "name": "conda-env-MCMD-py"
  },
  "language_info": {
   "codemirror_mode": {
    "name": "ipython",
    "version": 3
   },
   "file_extension": ".py",
   "mimetype": "text/x-python",
   "name": "python",
   "nbconvert_exporter": "python",
   "pygments_lexer": "ipython3",
   "version": "3.8.12"
  },
  "toc": {
   "base_numbering": 1,
   "nav_menu": {},
   "number_sections": true,
   "sideBar": true,
   "skip_h1_title": false,
   "title_cell": "Table of Contents",
   "title_sidebar": "Contents",
   "toc_cell": false,
   "toc_position": {},
   "toc_section_display": true,
   "toc_window_display": true
  }
 },
 "nbformat": 4,
 "nbformat_minor": 5
}
