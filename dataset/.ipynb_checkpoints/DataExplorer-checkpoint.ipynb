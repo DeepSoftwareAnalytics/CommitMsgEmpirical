{
 "cells": [
  {
   "cell_type": "markdown",
   "id": "1c6797d7",
   "metadata": {},
   "source": [
    "# MCMD | Multi-programming-language Commit Message Dataset"
   ]
  },
  {
   "cell_type": "markdown",
   "id": "3fc0775d",
   "metadata": {},
   "source": [
    "## Raw Data"
   ]
  },
  {
   "cell_type": "code",
   "execution_count": 2,
   "id": "d63dd80d",
   "metadata": {},
   "outputs": [],
   "source": [
    "import pickle\n",
    "\n",
    "repo_raw_data = pickle.load(open(\"raw_data/java/elastic/elasticsearch.pickle\",\"rb\"))"
   ]
  },
  {
   "cell_type": "markdown",
   "id": "eae234ef",
   "metadata": {},
   "source": [
    "where `java` is the `Programming Language`, `elastic/elasticsearch` is the `RepoFullName`.\n",
    "\n",
    "The variable `repo_raw_data`  stores all of the commits in [`elastic/elasticsearch`](https://github.com/elastic/elasticsearch) before 2021.\n",
    "\n",
    "If you want to see one of the commits, you can use the code below,"
   ]
  },
  {
   "cell_type": "code",
   "execution_count": 28,
   "id": "eb294b8c",
   "metadata": {},
   "outputs": [
    {
     "name": "stdout",
     "output_type": "stream",
     "text": [
      "{'diff': 'diff --git a/server/src/main/java/org/elasticsearch/common/xcontent/support/XContentMapValues.java b/server/src/main/java/org/elasticsearch/common/xcontent/support/XContentMapValues.java\\nindex df5b419e527e9..fa21a88fbee49 100644\\n--- a/server/src/main/java/org/elasticsearch/common/xcontent/support/XContentMapValues.java\\n+++ b/server/src/main/java/org/elasticsearch/common/xcontent/support/XContentMapValues.java\\n@@ -92,7 +92,9 @@ private static void extractRawValues(List values, List<Object> part, String[] pa\\n             } else if (value instanceof List) {\\n                 extractRawValues(values, (List) value, pathElements, index);\\n             } else {\\n-                values.add(value);\\n+                if (index == pathElements.length) {\\n+                    values.add(value);\\n+                }\\n             }\\n         }\\n     }\\ndiff --git a/server/src/test/java/org/elasticsearch/common/xcontent/support/XContentMapValuesTests.java b/server/src/test/java/org/elasticsearch/common/xcontent/support/XContentMapValuesTests.java\\nindex 957316d99dad8..97c5edaf06302 100644\\n--- a/server/src/test/java/org/elasticsearch/common/xcontent/support/XContentMapValuesTests.java\\n+++ b/server/src/test/java/org/elasticsearch/common/xcontent/support/XContentMapValuesTests.java\\n@@ -28,6 +28,7 @@\\n import org.elasticsearch.common.xcontent.XContentParser;\\n import org.elasticsearch.common.xcontent.XContentType;\\n import org.elasticsearch.common.xcontent.json.JsonXContent;\\n+import org.hamcrest.Matchers;\\n \\n import java.io.IOException;\\n import java.util.ArrayList;\\n@@ -42,6 +43,7 @@\\n import static java.util.Collections.singleton;\\n import static org.elasticsearch.common.xcontent.XContentHelper.convertToMap;\\n import static org.elasticsearch.common.xcontent.XContentHelper.toXContent;\\n+import static org.hamcrest.Matchers.contains;\\n import static org.hamcrest.Matchers.hasEntry;\\n import static org.hamcrest.Matchers.hasKey;\\n import static org.hamcrest.Matchers.hasSize;\\n@@ -203,6 +205,7 @@ public void testExtractRawValue() throws Exception {\\n             map = parser.map();\\n         }\\n         assertThat(XContentMapValues.extractRawValues(\"test\", map).get(0).toString(), equalTo(\"value\"));\\n+        assertThat(XContentMapValues.extractRawValues(\"test.dummy\", map), contains(\"value\"));\\n \\n         builder = XContentFactory.jsonBuilder().startObject()\\n                 .field(\"test.me\", \"value\")\\n@@ -232,6 +235,18 @@ public void testExtractRawValue() throws Exception {\\n         assertThat(XContentMapValues.extractRawValues(\"path1.xxx.path2.yyy.test\", map).get(0).toString(), equalTo(\"value\"));\\n     }\\n \\n+    public void testExtractRawValueLeafOnly() throws IOException {\\n+        Map<String, Object> map;\\n+        XContentBuilder builder = XContentFactory.jsonBuilder().startObject()\\n+            .startArray(\"path1\").value(9).startObject().field(\"path2\", \"value\").endObject().value(7).endArray()\\n+            .endObject();\\n+        try (XContentParser parser = createParser(JsonXContent.jsonXContent, Strings.toString(builder))) {\\n+            map = parser.map();\\n+        }\\n+        assertThat(XContentMapValues.extractRawValues(\"path1\", map), contains(9, 7));\\n+        assertThat(XContentMapValues.extractRawValues(\"path1.path2\", map), Matchers.contains(\"value\"));\\n+    }\\n+\\n     public void testPrefixedNamesFilteringTest() {\\n         Map<String, Object> map = new HashMap<>();\\n         map.put(\"obj\", \"value\");\\n', 'msg': \"Fix array handling in XContentMapValues.extractRawValues() (#65193)\\n\\nWhen an array is encountered while following a path through the map,\\r\\nwe should only add array values if we're at the final path. So following the\\r\\npath `foo.bar.baz` shouldn't add concrete values that sit in the array\\r\\nat `foo.bar`.\", 'sha': '63f7fc7cb843799042e5bdb66e28eb6be0de2d7a', 'date': '2020-11-19T11:32:03Z'}\n"
     ]
    }
   ],
   "source": [
    "print(repo_raw_data[618]) # where `618` is the index of the commit"
   ]
  },
  {
   "cell_type": "markdown",
   "id": "fab39e50",
   "metadata": {},
   "source": [
    "You can get its `Diff` by "
   ]
  },
  {
   "cell_type": "code",
   "execution_count": 14,
   "id": "7e787b2a",
   "metadata": {},
   "outputs": [
    {
     "name": "stdout",
     "output_type": "stream",
     "text": [
      "diff --git a/server/src/main/java/org/elasticsearch/common/xcontent/support/XContentMapValues.java b/server/src/main/java/org/elasticsearch/common/xcontent/support/XContentMapValues.java\n",
      "index df5b419e527e9..fa21a88fbee49 100644\n",
      "--- a/server/src/main/java/org/elasticsearch/common/xcontent/support/XContentMapValues.java\n",
      "+++ b/server/src/main/java/org/elasticsearch/common/xcontent/support/XContentMapValues.java\n",
      "@@ -92,7 +92,9 @@ private static void extractRawValues(List values, List<Object> part, String[] pa\n",
      "             } else if (value instanceof List) {\n",
      "                 extractRawValues(values, (List) value, pathElements, index);\n",
      "             } else {\n",
      "-                values.add(value);\n",
      "+                if (index == pathElements.length) {\n",
      "+                    values.add(value);\n",
      "+                }\n",
      "             }\n",
      "         }\n",
      "     }\n",
      "diff --git a/server/src/test/java/org/elasticsearch/common/xcontent/support/XContentMapValuesTests.java b/server/src/test/java/org/elasticsearch/common/xcontent/support/XContentMapValuesTests.java\n",
      "index 957316d99dad8..97c5edaf06302 100644\n",
      "--- a/server/src/test/java/org/elasticsearch/common/xcontent/support/XContentMapValuesTests.java\n",
      "+++ b/server/src/test/java/org/elasticsearch/common/xcontent/support/XContentMapValuesTests.java\n",
      "@@ -28,6 +28,7 @@\n",
      " import org.elasticsearch.common.xcontent.XContentParser;\n",
      " import org.elasticsearch.common.xcontent.XContentType;\n",
      " import org.elasticsearch.common.xcontent.json.JsonXContent;\n",
      "+import org.hamcrest.Matchers;\n",
      " \n",
      " import java.io.IOException;\n",
      " import java.util.ArrayList;\n",
      "@@ -42,6 +43,7 @@\n",
      " import static java.util.Collections.singleton;\n",
      " import static org.elasticsearch.common.xcontent.XContentHelper.convertToMap;\n",
      " import static org.elasticsearch.common.xcontent.XContentHelper.toXContent;\n",
      "+import static org.hamcrest.Matchers.contains;\n",
      " import static org.hamcrest.Matchers.hasEntry;\n",
      " import static org.hamcrest.Matchers.hasKey;\n",
      " import static org.hamcrest.Matchers.hasSize;\n",
      "@@ -203,6 +205,7 @@ public void testExtractRawValue() throws Exception {\n",
      "             map = parser.map();\n",
      "         }\n",
      "         assertThat(XContentMapValues.extractRawValues(\"test\", map).get(0).toString(), equalTo(\"value\"));\n",
      "+        assertThat(XContentMapValues.extractRawValues(\"test.dummy\", map), contains(\"value\"));\n",
      " \n",
      "         builder = XContentFactory.jsonBuilder().startObject()\n",
      "                 .field(\"test.me\", \"value\")\n",
      "@@ -232,6 +235,18 @@ public void testExtractRawValue() throws Exception {\n",
      "         assertThat(XContentMapValues.extractRawValues(\"path1.xxx.path2.yyy.test\", map).get(0).toString(), equalTo(\"value\"));\n",
      "     }\n",
      " \n",
      "+    public void testExtractRawValueLeafOnly() throws IOException {\n",
      "+        Map<String, Object> map;\n",
      "+        XContentBuilder builder = XContentFactory.jsonBuilder().startObject()\n",
      "+            .startArray(\"path1\").value(9).startObject().field(\"path2\", \"value\").endObject().value(7).endArray()\n",
      "+            .endObject();\n",
      "+        try (XContentParser parser = createParser(JsonXContent.jsonXContent, Strings.toString(builder))) {\n",
      "+            map = parser.map();\n",
      "+        }\n",
      "+        assertThat(XContentMapValues.extractRawValues(\"path1\", map), contains(9, 7));\n",
      "+        assertThat(XContentMapValues.extractRawValues(\"path1.path2\", map), Matchers.contains(\"value\"));\n",
      "+    }\n",
      "+\n",
      "     public void testPrefixedNamesFilteringTest() {\n",
      "         Map<String, Object> map = new HashMap<>();\n",
      "         map.put(\"obj\", \"value\");\n",
      "\n"
     ]
    }
   ],
   "source": [
    "print(repo_raw_data[618]['diff'])"
   ]
  },
  {
   "cell_type": "markdown",
   "id": "10779f3c",
   "metadata": {},
   "source": [
    "You can get its `Message` by "
   ]
  },
  {
   "cell_type": "code",
   "execution_count": 15,
   "id": "d9e4bbcb",
   "metadata": {},
   "outputs": [
    {
     "name": "stdout",
     "output_type": "stream",
     "text": [
      "Fix array handling in XContentMapValues.extractRawValues() (#65193)\n",
      "\n",
      "When an array is encountered while following a path through the map,\r\n",
      "we should only add array values if we're at the final path. So following the\r\n",
      "path `foo.bar.baz` shouldn't add concrete values that sit in the array\r\n",
      "at `foo.bar`.\n"
     ]
    }
   ],
   "source": [
    "print(repo_raw_data[618]['msg'])"
   ]
  },
  {
   "cell_type": "markdown",
   "id": "c6272483",
   "metadata": {},
   "source": [
    "You can get its `SHA` by"
   ]
  },
  {
   "cell_type": "code",
   "execution_count": 16,
   "id": "2eb3d3ee",
   "metadata": {},
   "outputs": [
    {
     "name": "stdout",
     "output_type": "stream",
     "text": [
      "63f7fc7cb843799042e5bdb66e28eb6be0de2d7a\n"
     ]
    }
   ],
   "source": [
    "print(repo_raw_data[618]['sha'])"
   ]
  },
  {
   "cell_type": "markdown",
   "id": "6b3c6265",
   "metadata": {},
   "source": [
    "You can get its `Timestamp` by"
   ]
  },
  {
   "cell_type": "code",
   "execution_count": 17,
   "id": "c0ac514b",
   "metadata": {},
   "outputs": [
    {
     "name": "stdout",
     "output_type": "stream",
     "text": [
      "2020-11-19T11:32:03Z\n"
     ]
    }
   ],
   "source": [
    "print(repo_raw_data[618]['date'])"
   ]
  },
  {
   "cell_type": "markdown",
   "id": "416a2dd1",
   "metadata": {},
   "source": [
    "_____"
   ]
  },
  {
   "cell_type": "markdown",
   "id": "070918c8",
   "metadata": {},
   "source": [
    "## Filtered Data\n"
   ]
  },
  {
   "cell_type": "code",
   "execution_count": 34,
   "id": "b27229b8",
   "metadata": {},
   "outputs": [
    {
     "name": "stdout",
     "output_type": "stream",
     "text": [
      "spring-projects/spring-framework\n"
     ]
    }
   ],
   "source": [
    "train_repo = open(\"filtered_data/java/sort_random_train80_valid10_test10/train.repo.txt\").read().split(\"\\n\")\n",
    "print(train_repo[18])"
   ]
  },
  {
   "cell_type": "code",
   "execution_count": 29,
   "id": "338dd7c7",
   "metadata": {},
   "outputs": [
    {
     "name": "stdout",
     "output_type": "stream",
     "text": [
      "mmm a / spring - test / src / main / java / org / springframework / test / context / TestPropertySource . java <nl> ppp b / spring - test / src / main / java / org / springframework / test / context / TestPropertySource . java <nl> <nl> * <nl> * < h3 > Precedence < / h3 > <nl> * < p > Properties declared via this attribute have higher precedence than <nl> - * properties loaded from resource { @ link locations } . <nl> + * properties loaded from resource { @ link # locations } . <nl> * <nl> * < p > This attribute may be used in conjunction with { @ link # value } <nl> * < em > or < / em > { @ link # locations } . <nl>\n"
     ]
    }
   ],
   "source": [
    "train_diff = open(\"filtered_data/java/sort_random_train80_valid10_test10/train.diff.txt\").read().split(\"\\n\")\n",
    "print(train_diff[18])"
   ]
  },
  {
   "cell_type": "code",
   "execution_count": 27,
   "id": "5e529a44",
   "metadata": {},
   "outputs": [
    {
     "name": "stdout",
     "output_type": "stream",
     "text": [
      "Fix broken Javadoc link in @ TestPropertySource\n"
     ]
    }
   ],
   "source": [
    "train_msg = open(\"filtered_data/java/sort_random_train80_valid10_test10/train.msg.txt\").read().split(\"\\n\")\n",
    "print(train_msg[18])"
   ]
  },
  {
   "cell_type": "code",
   "execution_count": 30,
   "id": "03c58cbf",
   "metadata": {},
   "outputs": [
    {
     "name": "stdout",
     "output_type": "stream",
     "text": [
      "2014-08-24T16:12:38Z\n"
     ]
    }
   ],
   "source": [
    "train_time = open(\"filtered_data/java/sort_random_train80_valid10_test10/train.time.txt\").read().split(\"\\n\")\n",
    "print(train_time[18])"
   ]
  },
  {
   "cell_type": "code",
   "execution_count": 31,
   "id": "a170a046",
   "metadata": {},
   "outputs": [
    {
     "name": "stdout",
     "output_type": "stream",
     "text": [
      "2963fd9e5a8f01eb365469b50d443d56fc7a8ad0\n"
     ]
    }
   ],
   "source": [
    "train_sha = open(\"filtered_data/java/sort_random_train80_valid10_test10/train.sha.txt\").read().split(\"\\n\")\n",
    "print(train_sha[18])"
   ]
  }
 ],
 "metadata": {
  "kernelspec": {
   "display_name": "Python 3",
   "language": "python",
   "name": "python3"
  },
  "language_info": {
   "codemirror_mode": {
    "name": "ipython",
    "version": 3
   },
   "file_extension": ".py",
   "mimetype": "text/x-python",
   "name": "python",
   "nbconvert_exporter": "python",
   "pygments_lexer": "ipython3",
   "version": "3.9.4"
  },
  "toc": {
   "base_numbering": 1,
   "nav_menu": {},
   "number_sections": true,
   "sideBar": true,
   "skip_h1_title": false,
   "title_cell": "Table of Contents",
   "title_sidebar": "Contents",
   "toc_cell": false,
   "toc_position": {},
   "toc_section_display": true,
   "toc_window_display": false
  }
 },
 "nbformat": 4,
 "nbformat_minor": 5
}
